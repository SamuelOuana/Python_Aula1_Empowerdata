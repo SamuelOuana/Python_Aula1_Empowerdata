{
 "cells": [
  {
   "cell_type": "markdown",
   "id": "7cb16b93",
   "metadata": {},
   "source": [
    "# Primeira aula da Semana Python"
   ]
  },
  {
   "cell_type": "markdown",
   "id": "82604caa",
   "metadata": {},
   "source": [
    "## Comando print()"
   ]
  },
  {
   "cell_type": "code",
   "execution_count": null,
   "id": "60a7310b",
   "metadata": {},
   "outputs": [],
   "source": [
    "print(\"Hello word!\")\n",
    "print(\"Eu serei um optimo Especialista em analise de dados\")"
   ]
  },
  {
   "cell_type": "markdown",
   "id": "6347a6f2",
   "metadata": {},
   "source": [
    "## Entrada de dados do usuario - input()"
   ]
  },
  {
   "cell_type": "code",
   "execution_count": null,
   "id": "be829fd4",
   "metadata": {},
   "outputs": [],
   "source": [
    "input(\"Digite a descricao do projecto: \")\n",
    "input(\"Digite a quantidade de horas previstas: \")"
   ]
  },
  {
   "cell_type": "markdown",
   "id": "fb302e9b",
   "metadata": {},
   "source": [
    "## Armazenar dados em uma variavel"
   ]
  },
  {
   "cell_type": "code",
   "execution_count": 1,
   "id": "e0f681da",
   "metadata": {},
   "outputs": [
    {
     "name": "stdout",
     "output_type": "stream",
     "text": [
      "Digite a descricao do projecto: Desenvolvimento\n",
      "Digite a quantidade de horas previstas: 120\n",
      "Digite o valor da hora trabalhada: 45\n",
      "Digite o prazo estimado: 8\n"
     ]
    }
   ],
   "source": [
    "descricao_projecto = input(\"Digite a descricao do projecto: \")\n",
    "horas_previstas = input(\"Digite a quantidade de horas previstas: \")\n",
    "valor_hora = input(\"Digite o valor da hora trabalhada: \")\n",
    "prazo = input(\"Digite o prazo estimado: \")"
   ]
  },
  {
   "cell_type": "code",
   "execution_count": 2,
   "id": "1644a5b5",
   "metadata": {},
   "outputs": [
    {
     "name": "stdout",
     "output_type": "stream",
     "text": [
      "Desenvolvimento\n",
      "120\n",
      "45\n",
      "8\n"
     ]
    }
   ],
   "source": [
    "print(descricao_projecto)\n",
    "print(horas_previstas)\n",
    "print(valor_hora)\n",
    "print(prazo)"
   ]
  },
  {
   "cell_type": "markdown",
   "id": "97f888e6",
   "metadata": {},
   "source": [
    "## Realizando calculos com python"
   ]
  },
  {
   "cell_type": "code",
   "execution_count": 3,
   "id": "c3ad4067",
   "metadata": {},
   "outputs": [],
   "source": [
    "valor_total = int(horas_previstas) * int(valor_hora)"
   ]
  },
  {
   "cell_type": "code",
   "execution_count": 4,
   "id": "0dbd5d58",
   "metadata": {},
   "outputs": [
    {
     "name": "stdout",
     "output_type": "stream",
     "text": [
      "5400\n"
     ]
    }
   ],
   "source": [
    "print(valor_total)"
   ]
  },
  {
   "cell_type": "code",
   "execution_count": null,
   "id": "d5ddcdc7",
   "metadata": {},
   "outputs": [],
   "source": [
    "!pip install fpdf"
   ]
  },
  {
   "cell_type": "code",
   "execution_count": 5,
   "id": "5b806e1d",
   "metadata": {},
   "outputs": [],
   "source": [
    "from fpdf import FPDF"
   ]
  },
  {
   "cell_type": "code",
   "execution_count": 8,
   "id": "b7ca5ec3",
   "metadata": {},
   "outputs": [
    {
     "name": "stdout",
     "output_type": "stream",
     "text": [
      "Orcamento gerado com sucesso!\n"
     ]
    }
   ],
   "source": [
    "# criando um PDF\n",
    "pdf = FPDF()\n",
    "\n",
    "pdf.add_page()\n",
    "pdf.set_font(\"Arial\")\n",
    "pdf.image(\"template.png\", x=0, y=0)\n",
    "\n",
    "pdf.text(115, 145, descricao_projecto)\n",
    "pdf.text(115, 160, str(horas_previstas))\n",
    "pdf.text(115, 175, str(valor_hora))\n",
    "pdf.text(115, 190, prazo)\n",
    "pdf.text(115, 205, str(valor_total))\n",
    "\n",
    "\n",
    "pdf.output(\"Orcamento.pdf\")\n",
    "\n",
    "print(\"Orcamento gerado com sucesso!\")"
   ]
  },
  {
   "cell_type": "code",
   "execution_count": null,
   "id": "47dc82c9",
   "metadata": {},
   "outputs": [],
   "source": []
  },
  {
   "cell_type": "code",
   "execution_count": null,
   "id": "43a360b0",
   "metadata": {},
   "outputs": [],
   "source": []
  },
  {
   "cell_type": "code",
   "execution_count": null,
   "id": "faf08cce",
   "metadata": {},
   "outputs": [],
   "source": []
  },
  {
   "cell_type": "code",
   "execution_count": null,
   "id": "650bb453",
   "metadata": {},
   "outputs": [],
   "source": []
  },
  {
   "cell_type": "code",
   "execution_count": null,
   "id": "a69e6e9a",
   "metadata": {},
   "outputs": [],
   "source": []
  },
  {
   "cell_type": "code",
   "execution_count": null,
   "id": "d01fa873",
   "metadata": {},
   "outputs": [],
   "source": []
  }
 ],
 "metadata": {
  "kernelspec": {
   "display_name": "Python 3 (ipykernel)",
   "language": "python",
   "name": "python3"
  },
  "language_info": {
   "codemirror_mode": {
    "name": "ipython",
    "version": 3
   },
   "file_extension": ".py",
   "mimetype": "text/x-python",
   "name": "python",
   "nbconvert_exporter": "python",
   "pygments_lexer": "ipython3",
   "version": "3.9.13"
  }
 },
 "nbformat": 4,
 "nbformat_minor": 5
}
